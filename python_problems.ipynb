{
 "cells": [
  {
   "cell_type": "markdown",
   "metadata": {},
   "source": [
    "This file should be completed before the *beginning* of class on Saturday Feb 17th.\n",
    "Open book, open notes, open internet!"
   ]
  },
  {
   "cell_type": "code",
   "execution_count": 1,
   "metadata": {},
   "outputs": [],
   "source": [
    "## Write each function below according to the docstring.\n",
    "\n",
    "\n",
    "def max_lists(list1, list2):\n",
    "    \"\"\"\n",
    "    list1 and list2 have the same length.\n",
    "    Return a list which contains, for each index,\n",
    "    the maximum element of both list at this index.\n",
    "\n",
    "    Parameters\n",
    "    ----------\n",
    "    list1 : {list} of numeric values\n",
    "    list2 : {list} of numeric values\n",
    "\n",
    "    Returns\n",
    "    -------\n",
    "    {list} : list of maximum values for each index of list1,list2\n",
    "\n",
    "    Example\n",
    "    -------\n",
    "    >>> max_lists([1, 4, 8], [3, 1, 9])\n",
    "    [3, 4, 9]\n",
    "    >>> max_lists([5, 7, 2, 3, 6], [3, 9, 1, 2, 8])\n",
    "    [5, 9, 2, 3, 8]\n",
    "    \"\"\"\n",
    "        \n",
    "    max_list = []\n",
    "    for tup in zip(list1, list2):\n",
    "        max_list.append(max(tup))    \n",
    "    return max_list\n"
   ]
  },
  {
   "cell_type": "code",
   "execution_count": 2,
   "metadata": {},
   "outputs": [
    {
     "data": {
      "text/plain": [
       "[3, 4, 9]"
      ]
     },
     "execution_count": 2,
     "metadata": {},
     "output_type": "execute_result"
    }
   ],
   "source": [
    "max_lists([1, 4, 8], [3, 1, 9])"
   ]
  },
  {
   "cell_type": "code",
   "execution_count": 3,
   "metadata": {},
   "outputs": [],
   "source": [
    "def get_diagonal(mat):\n",
    "    \"\"\"\n",
    "    Given a matrix encoded as a 2 dimensional python list, return a list\n",
    "    containing all the values in the diagonal starting at the index 0, 0.\n",
    "\n",
    "    Parameters\n",
    "    ----------\n",
    "    mat : 2 dimensional list ({list} of {list} of numeric values)\n",
    "\n",
    "    Returns\n",
    "    -------\n",
    "    {list} : values in the diagonal\n",
    "\n",
    "    Example\n",
    "    -------\n",
    "    E.g.\n",
    "    mat = [[1, 2], [3, 4], [5, 6]]\n",
    "    | 1  2 |\n",
    "    | 3  4 |\n",
    "    | 5  6 |\n",
    "    get_diagonal(mat) => [1, 4]\n",
    "\n",
    "    You may assume that the matrix is nonempty.\n",
    "\n",
    "    >>> get_diagonal([[1, 2], [3, 4], [5, 6]])\n",
    "    [1, 4]\n",
    "    \"\"\"\n",
    "    axis0 = 0\n",
    "    axis1 = 0\n",
    "    output = []\n",
    "\n",
    "    while len(output) < len(mat[0]):\n",
    "        output.append(mat[axis0][axis1])\n",
    "        axis0 += 1\n",
    "        axis1 += 1 \n",
    "    return output\n"
   ]
  },
  {
   "cell_type": "code",
   "execution_count": 4,
   "metadata": {},
   "outputs": [
    {
     "data": {
      "text/plain": [
       "[1, 4]"
      ]
     },
     "execution_count": 4,
     "metadata": {},
     "output_type": "execute_result"
    }
   ],
   "source": [
    "get_diagonal([[1, 2], [3, 4], [5, 6]])"
   ]
  },
  {
   "cell_type": "code",
   "execution_count": 5,
   "metadata": {},
   "outputs": [],
   "source": [
    "def merge_dictionaries(d1, d2):\n",
    "    \"\"\"\n",
    "    Return a new dictionary which contains all the keys from d1 and d2 with\n",
    "    their associated values. If a key is in both dictionaries, the value should\n",
    "    be the sum of the two values.\n",
    "\n",
    "    Parameters\n",
    "    ----------\n",
    "    d1 : {dict}\n",
    "    d2 : {dict}\n",
    "\n",
    "    Returns\n",
    "    -------\n",
    "    {dict} : values in the diagonal\n",
    "\n",
    "    Example\n",
    "    -------\n",
    "    >>> d1 = {\"a\": 1, \"b\": 5, \"c\": 1, \"e\": 8}\n",
    "    >>> d2 = {\"b\": 2, \"c\": 5, \"d\": 10, \"f\": 6}\n",
    "    >>> merge_dictionaries(d1,d2) == {\"a\": 1, \"b\": 7, \"c\": 6, \"d\": 10, \"e\": 8, \"f\": 6}\n",
    "    True\n",
    "    \"\"\"\n",
    "    d3 ={}\n",
    "    for key, val in d1.items():\n",
    "        d2[key] = d2.get(key, 0) + val\n",
    "    return d2\n"
   ]
  },
  {
   "cell_type": "code",
   "execution_count": 6,
   "metadata": {},
   "outputs": [
    {
     "data": {
      "text/plain": [
       "{'a': 1, 'b': 7, 'c': 6, 'd': 10, 'e': 8, 'f': 6}"
      ]
     },
     "execution_count": 6,
     "metadata": {},
     "output_type": "execute_result"
    }
   ],
   "source": [
    "d1 = {\"a\": 1, \"b\": 5, \"c\": 1, \"e\": 8}\n",
    "d2 = {\"b\": 2, \"c\": 5, \"d\": 10, \"f\": 6}\n",
    "\n",
    "merge_dictionaries(d1,d2)"
   ]
  },
  {
   "cell_type": "code",
   "execution_count": 7,
   "metadata": {},
   "outputs": [],
   "source": [
    "def make_char_dict(filename):\n",
    "    \"\"\"\n",
    "    Given a file containing rows of text, create a dictionary with keys\n",
    "    of single characters. The value is a list of all the line numbers which\n",
    "    start with that letter. The first line should have line number 1.\n",
    "    Characters which never are the first letter of a line do not need to be\n",
    "    included in your dictionary.\n",
    "\n",
    "    Parameters\n",
    "    ----------\n",
    "    filename : {string} indicating path to file\n",
    "\n",
    "    Returns\n",
    "    -------\n",
    "    {dict} : keys are {str} and values are {list}\n",
    "\n",
    "    Example\n",
    "    -------\n",
    "    >>> result = make_char_dict('data/people.txt')\n",
    "    >>> result['j']\n",
    "    [2, 19, 20]\n",
    "    >>> result['g']\n",
    "    [3]\n",
    "    \"\"\"\n",
    "\n",
    "    textfile = open(filename)\n",
    "\n",
    "    char_dict = {}\n",
    "    line_number = 0\n",
    "\n",
    "    for line in textfile:\n",
    "        line_number += 1\n",
    "        char = line[0]\n",
    "        if char in char_dict:\n",
    "            char_dict[char].append(line_number)\n",
    "\n",
    "        else:\n",
    "            char_dict[char] = [line_number]\n",
    "\n",
    "    return char_dict\n"
   ]
  },
  {
   "cell_type": "code",
   "execution_count": null,
   "metadata": {},
   "outputs": [],
   "source": [
    "result = make_char_dict('data/people.txt')\n",
    "result['j']"
   ]
  },
  {
   "cell_type": "code",
   "execution_count": null,
   "metadata": {},
   "outputs": [],
   "source": [
    "result['g']"
   ]
  }
 ],
 "metadata": {
  "kernelspec": {
   "display_name": "Python 3.6",
   "language": "python",
   "name": "python36"
  },
  "language_info": {
   "codemirror_mode": {
    "name": "ipython",
    "version": 3
   },
   "file_extension": ".py",
   "mimetype": "text/x-python",
   "name": "python",
   "nbconvert_exporter": "python",
   "pygments_lexer": "ipython3",
   "version": "3.6.3"
  }
 },
 "nbformat": 4,
 "nbformat_minor": 2
}
